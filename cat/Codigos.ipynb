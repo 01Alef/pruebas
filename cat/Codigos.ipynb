{
 "cells": [
  {
   "cell_type": "markdown",
   "metadata": {
    "colab_type": "text",
    "id": "AJYk3RFl_uiI"
   },
   "source": [
    "# Aqui vamos a trabajar en los codigos que creemos:\n"
   ]
  },
  {
   "cell_type": "markdown",
   "metadata": {
    "colab_type": "text",
    "id": "IzuxpRrb_8HZ"
   },
   "source": [
    "Google colab, ya trae por defecto las librerias necesarias de Python, incluso las que provee anaconda.\n",
    "También crea un archivo que se puede descargar y usarse perfectamente en Jupyter notebook.\n",
    "\n",
    "crear un ajuste lineal de la forma:"
   ]
  },
  {
   "cell_type": "markdown",
   "metadata": {},
   "source": [
    "$$ y = bx $$\n",
    "$$\\dot{x} = \\frac{dx}{dt} $$"
   ]
  },
  {
   "cell_type": "code",
   "execution_count": 1,
   "metadata": {},
   "outputs": [],
   "source": [
    "import numpy as np\n",
    "import pandas as pd\n",
    "import matplotlib.pyplot as plt"
   ]
  },
  {
   "cell_type": "code",
   "execution_count": 16,
   "metadata": {},
   "outputs": [
    {
     "name": "stdout",
     "output_type": "stream",
     "text": [
      "La pendiente es: 25.125628140703522\n"
     ]
    }
   ],
   "source": [
    "x = np.arange(1, 100)\n",
    "y = np.linspace(1000, 2000, 99)\n",
    "#print(f\"los valor de x son: {x}\")\n",
    "#print(f\"los valor de y son: {y}\")\n",
    "sumx = sum(x)\n",
    "sumy = sum(y)\n",
    "sumxy = sum(x*y)\n",
    "sumx2 = sum(x*x)\n",
    "a = (sumxy)/(sumx2)\n",
    "print(f\"La pendiente es: {a}\")"
   ]
  },
  {
   "cell_type": "code",
   "execution_count": 21,
   "metadata": {},
   "outputs": [
    {
     "data": {
      "image/png": "[encoded data removed]",
      "text/plain": [
       "<Figure size 432x288 with 1 Axes>"
      ]
     },
     "metadata": {
      "needs_background": "light"
     },
     "output_type": "display_data"
    }
   ],
   "source": [
    "plt.scatter(x,y)\n",
    "plt.plot(x,a*x, c='r')\n",
    "plt.show()"
   ]
  },
  {
   "cell_type": "code",
   "execution_count": null,
   "metadata": {},
   "outputs": [],
   "source": []
  }
 ],
 "metadata": {
  "colab": {
   "collapsed_sections": [],
   "name": "Codigos.ipynb",
   "provenance": []
  },
  "kernelspec": {
   "display_name": "Python 3",
   "language": "python",
   "name": "python3"
  },
  "language_info": {
   "codemirror_mode": {
    "name": "ipython",
    "version": 3
   },
   "file_extension": ".py",
   "mimetype": "text/x-python",
   "name": "python",
   "nbconvert_exporter": "python",
   "pygments_lexer": "ipython3",
   "version": "3.8.3"
  }
 },
 "nbformat": 4,
 "nbformat_minor": 4
}
